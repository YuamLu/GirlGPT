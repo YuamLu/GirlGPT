{
 "cells": [
  {
   "cell_type": "code",
   "execution_count": null,
   "metadata": {},
   "outputs": [],
   "source": [
    "from openai import OpenAI\n",
    "\n",
    "\n",
    "def get_suggestion(user_input):\n",
    "    client = OpenAI()\n",
    "   \n",
    "    completion = client.chat.completions.create(\n",
    "        model=\"gpt-4o\",\n",
    "        messages=[\n",
    "            {\"role\": \"system\", \"content\": \"你是一個可以提供尊重對方且讓提問者開心的回覆的助手，使用者將會輸入對方的問題，回覆時請撇除預設立場且一定要給出回復不要轉移話題，可以偏愛提問者，要強調出他特殊的魅力。請使用XML格式，生成針對使樂者的應對建議，以及實際舉例來賞用者迴路訊息，使月<suggestion>和<example>標記來格式化你的回覆，<example>不超過30字\"},\n",
    "            {\"role\": \"user\", \"content\": user_input}\n",
    "        ]\n",
    "    )\n",
    "   \n",
    "    return completion.choices[0].message.content\n",
    "\n",
    "\n",
    "# 測試輸入範例\n",
    "dialogue = \"你喜歡過除了我以外的異性嗎\"\n",
    "response = get_suggestion(dialogue)\n",
    "print(response)"
   ]
  }
 ],
 "metadata": {
  "kernelspec": {
   "display_name": "GirlGPT",
   "language": "python",
   "name": "python3"
  },
  "language_info": {
   "name": "python",
   "version": "3.12.9"
  }
 },
 "nbformat": 4,
 "nbformat_minor": 2
}
